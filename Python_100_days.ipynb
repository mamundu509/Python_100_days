{
 "cells": [
  {
   "cell_type": "code",
   "execution_count": 2,
   "id": "ff071681",
   "metadata": {},
   "outputs": [],
   "source": [
    "import random\n",
    "number=random.randint(1,10)"
   ]
  },
  {
   "cell_type": "code",
   "execution_count": 3,
   "id": "7733a0d3",
   "metadata": {},
   "outputs": [
    {
     "name": "stdout",
     "output_type": "stream",
     "text": [
      "2\n"
     ]
    }
   ],
   "source": [
    "print(number)"
   ]
  },
  {
   "cell_type": "markdown",
   "id": "5a496635",
   "metadata": {},
   "source": [
    "## Day_4\n",
    "#### rock,paper,scissor"
   ]
  },
  {
   "cell_type": "code",
   "execution_count": null,
   "id": "424383ea",
   "metadata": {},
   "outputs": [],
   "source": [
    "import random\n",
    "\n",
    "rock = '''\n",
    "    _______\n",
    "---'   ____)\n",
    "      (_____)\n",
    "      (_____)\n",
    "      (____)\n",
    "---.__(___)\n",
    "'''\n",
    "\n",
    "paper = '''\n",
    "    _______\n",
    "---'   ____)____\n",
    "          ______)\n",
    "          _______)\n",
    "         _______)\n",
    "---.__________)\n",
    "'''\n",
    "\n",
    "scissors = '''\n",
    "    _______\n",
    "---'   ____)____\n",
    "          ______)\n",
    "       __________)\n",
    "      (____)\n",
    "---.__(___)\n",
    "'''\n",
    "\n",
    "game_images = [rock, paper, scissors]\n",
    "\n",
    "user_choice = int(input(\"What do you choose? Type 0 for Rock, 1 for Paper or 2 for Scissors.\\n\"))\n",
    "print(game_images[user_choice])\n",
    "\n",
    "computer_choice = random.randint(0, 2)\n",
    "print(\"Computer chose:\")\n",
    "print(game_images[computer_choice])\n",
    "\n",
    "if user_choice >= 3 or user_choice < 0: \n",
    "  print(\"You typed an invalid number, you lose!\") \n",
    "elif user_choice == 0 and computer_choice == 2:\n",
    "  print(\"You win!\")\n",
    "elif computer_choice == 0 and user_choice == 2:\n",
    "  print(\"You lose\")\n",
    "elif computer_choice > user_choice:\n",
    "  print(\"You lose\")\n",
    "elif user_choice > computer_choice:\n",
    "  print(\"You win!\")\n",
    "elif computer_choice == user_choice:\n",
    "  print(\"It's a draw\")\n"
   ]
  },
  {
   "cell_type": "markdown",
   "id": "7108e5d7",
   "metadata": {},
   "source": [
    "## 4.2  Instructions\n",
    "You are going to write a program that will select a random name from a list of names. The person selected will have to pay for everybody's food bill.\n",
    "\n",
    "Important: You are not allowed to use the choice() function.\n",
    "\n",
    "Line 8 splits the string names_string into individual names and puts them inside a List called names. For this to work, you must enter all the names as names followed by comma then space. e.g. name, name, name"
   ]
  },
  {
   "cell_type": "code",
   "execution_count": 9,
   "id": "5b3245a7",
   "metadata": {},
   "outputs": [
    {
     "name": "stdout",
     "output_type": "stream",
     "text": [
      "Actual String containing integers:  1 2 3 4 5 6 7 8\n",
      "Type of string:  <class 'str'>\n",
      "Converted string to list :  ['1', '2', '3', '4', '5', '6', '7', '8']\n",
      "List of integers :  [1, 2, 3, 4, 5, 6, 7, 8]\n"
     ]
    }
   ],
   "source": [
    "#string with integers sepated by spaces\n",
    "string1=\"1 2 3 4 5 6 7 8\"\n",
    "print(\"Actual String containing integers: \",string1)\n",
    "print(\"Type of string: \",type(string1))\n",
    " \n",
    "#converting the string into list of strings\n",
    "list1=list(string1.split())\n",
    "print(\"Converted string to list : \",list1)\n",
    " \n",
    "#typecasting the individual elements of the string list into integer using the map() method\n",
    "list2=list(map(int,list1))\n",
    "print(\"List of integers : \",list2)"
   ]
  },
  {
   "cell_type": "code",
   "execution_count": 8,
   "id": "b0425e50",
   "metadata": {},
   "outputs": [
    {
     "name": "stdout",
     "output_type": "stream",
     "text": [
      "Jenny\n"
     ]
    }
   ],
   "source": [
    "name=['Angela', 'Ben', 'Jenny', 'Michael', 'Chloe']\n",
    "print(random.choice(name))\n"
   ]
  },
  {
   "cell_type": "code",
   "execution_count": 18,
   "id": "67b23456",
   "metadata": {},
   "outputs": [
    {
     "name": "stdout",
     "output_type": "stream",
     "text": [
      "Jenny\n",
      "Jenny is going to buy the meal today!\n"
     ]
    }
   ],
   "source": [
    "# EASY way solve\n",
    "person=random.choice(name)\n",
    "print(person)\n",
    "print(person + ' is going to buy the meal today!')"
   ]
  },
  {
   "cell_type": "code",
   "execution_count": 27,
   "id": "091ab9e3",
   "metadata": {},
   "outputs": [
    {
     "name": "stdout",
     "output_type": "stream",
     "text": [
      "Give me everybody's names, separated by a comma. \"mo,so,to\"\n",
      "\"mo,so,to\" is going to buy the meal today!\n"
     ]
    }
   ],
   "source": [
    "import random\n",
    "\n",
    "# Split string method\n",
    "names_string = str(input(\"Give me everybody's names, separated by a comma. \"))\n",
    "names = names_string.split(\", \")\n",
    "num_of_people=len(names)\n",
    "random_choice=random.randint(0,num_of_people-1)\n",
    "person_who_will_pay=names[random_choice]\n",
    "\n",
    "\n",
    "print(person_who_will_pay + \" is going to buy the meal today!\")"
   ]
  },
  {
   "cell_type": "markdown",
   "id": "2bb05331",
   "metadata": {},
   "source": [
    "## randomly select a person"
   ]
  },
  {
   "cell_type": "code",
   "execution_count": 32,
   "id": "34294767",
   "metadata": {},
   "outputs": [
    {
     "name": "stdout",
     "output_type": "stream",
     "text": [
      "Give me everybody's names, separated by a comma. mamun,saihaan,today\n",
      "mamun,saihaan,today is going to buy the meal today!\n"
     ]
    }
   ],
   "source": [
    "import random\n",
    "\n",
    "# Split string method\n",
    "names_string = str(input(\"Give me everybody's names, separated by a comma. \"))\n",
    "names = names_string.split(\", \")\n",
    "num_of_people = len(names)\n",
    "random_choice = random.randint(0, num_of_people-1)\n",
    "person_who_will_pay = names[random_choice]\n",
    "\n",
    "print(person_who_will_pay + \" is going to buy the meal today!\") \n",
    "## name should be given comma and space otherwise its not gonna randomly give one name\n"
   ]
  },
  {
   "cell_type": "code",
   "execution_count": null,
   "id": "bb2bb4ee",
   "metadata": {},
   "outputs": [],
   "source": [
    "import random\n",
    "\n",
    "# Split string method\n",
    "names_string = input(\"Give me everybody's names, separated by a comma: \")\n",
    "names = names_string.split(\", \")\n",
    "num_of_people = len(names)\n",
    "random_choice = random.randint(0, num_of_people-1)\n",
    "person_who_will_pay = names[random_choice]\n",
    "\n",
    "print(person_who_will_pay)\n"
   ]
  },
  {
   "cell_type": "markdown",
   "id": "dbc3e23b",
   "metadata": {},
   "source": [
    "## treasure map\n",
    "Exercise 3 - Treasure Map\n",
    "Overview\n",
    "My Submissions/Test Runs\n",
    "Instructions\n",
    "You are going to write a program that will mark a spot with an X.\n",
    "\n",
    "In the starting code, you will find a variable called map.\n",
    "\n",
    "This map contains a nested list. When map is printed this is what the nested list looks like:\n",
    "\n",
    "[['⬜️', '⬜️', '⬜️'],['⬜️', '⬜️', '⬜️'],['⬜️', '⬜️', '⬜️']]\n",
    "\n",
    "This is a bit hard to work with. So on lines 6 and 23, we've used this line of code print(f\"{row1}\\n{row2}\\n{row3}\" to format the 3 lists to be printed as a 3 by 3 square, each on a new line. \n",
    "\n",
    "['⬜️', '⬜️', '⬜️']\n",
    "\n",
    "['⬜️', '⬜️', '⬜️']\n",
    "\n",
    "['⬜️', '⬜️', '⬜️']\n",
    "\n",
    "Now it looks a bit more like the coordinates of a real map:"
   ]
  },
  {
   "cell_type": "code",
   "execution_count": null,
   "id": "d7ded3e2",
   "metadata": {},
   "outputs": [],
   "source": []
  },
  {
   "cell_type": "markdown",
   "id": "09dcc2da",
   "metadata": {},
   "source": [
    "## Day 5 average height"
   ]
  },
  {
   "cell_type": "markdown",
   "id": "a2315bb3",
   "metadata": {},
   "source": [
    "Instructions\n",
    "You are going to write a program that calculates the average student height from a List of heights.\n",
    "\n",
    "e.g. student_heights = [180, 124, 165, 173, 189, 169, 146]\n",
    "\n",
    "The average height can be calculated by adding all the heights together and dividing by the total number of heights.\n",
    "\n",
    "e.g.\n",
    "\n",
    "180 + 124 + 165 + 173 + 189 + 169 + 146 = 1146\n",
    "\n",
    "There are a total of 7 heights in student_heights\n",
    "\n",
    "1146 ÷ 7 = 163.71428571428572\n",
    "\n",
    "Average height rounded to the nearest whole number = 164\n",
    "\n",
    "Important You should not use the sum() or len() functions in your answer. You should try to replicate their functionality using what you have learnt about for loops."
   ]
  },
  {
   "cell_type": "code",
   "execution_count": null,
   "id": "12776787",
   "metadata": {},
   "outputs": [],
   "source": []
  }
 ],
 "metadata": {
  "kernelspec": {
   "display_name": "Python 3 (ipykernel)",
   "language": "python",
   "name": "python3"
  },
  "language_info": {
   "codemirror_mode": {
    "name": "ipython",
    "version": 3
   },
   "file_extension": ".py",
   "mimetype": "text/x-python",
   "name": "python",
   "nbconvert_exporter": "python",
   "pygments_lexer": "ipython3",
   "version": "3.11.3"
  }
 },
 "nbformat": 4,
 "nbformat_minor": 5
}
